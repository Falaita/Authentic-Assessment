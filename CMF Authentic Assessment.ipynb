{
 "cells": [
  {
   "cell_type": "code",
   "execution_count": 1,
   "id": "b5b628df",
   "metadata": {},
   "outputs": [],
   "source": [
    "import numpy as np\n",
    "import pandas as pd\n",
    "import matplotlib.pyplot as plt\n",
    "import scipy.stats as si\n",
    "import yfinance as yf\n",
    "import os"
   ]
  },
  {
   "cell_type": "code",
   "execution_count": 2,
   "id": "3d50147d",
   "metadata": {},
   "outputs": [
    {
     "name": "stdout",
     "output_type": "stream",
     "text": [
      "[*********************100%***********************]  1 of 1 completed\n"
     ]
    }
   ],
   "source": [
    "TSLA = yf.download(\"TSLA\", start=\"2020-12-04\", end=\"2021-12-04\")"
   ]
  },
  {
   "cell_type": "code",
   "execution_count": 3,
   "id": "7b6da5cd",
   "metadata": {},
   "outputs": [
    {
     "name": "stdout",
     "output_type": "stream",
     "text": [
      "The spot price is $ 1014.97 .\n"
     ]
    }
   ],
   "source": [
    "S = TSLA['Adj Close'][-1]\n",
    "print('The spot price is $', round(S,2), '.')"
   ]
  },
  {
   "cell_type": "code",
   "execution_count": 4,
   "id": "043783c3",
   "metadata": {},
   "outputs": [
    {
     "name": "stdout",
     "output_type": "stream",
     "text": [
      "The annualised volatility is 54.56 %\n"
     ]
    }
   ],
   "source": [
    "log_return = np.log(TSLA['Adj Close'] / TSLA['Adj Close'].shift(1))\n",
    "vol_h = np.sqrt(252) * log_return.std()\n",
    "print('The annualised volatility is', round(vol_h*100,2), '%')"
   ]
  },
  {
   "cell_type": "code",
   "execution_count": 5,
   "id": "1e4206ab",
   "metadata": {},
   "outputs": [],
   "source": [
    "def newton_vol_call(S, K, T, C, r):\n",
    "    \n",
    "    #S: spot price\n",
    "    #K: strike price\n",
    "    #T: time to maturity\n",
    "    #C: Call value\n",
    "    #r: risk free rate\n",
    "    #sigma: volatility of underlying asset\n",
    "   \n",
    "    MAX_ITERATIONS = 1000\n",
    "    tolerance = 0.000001\n",
    "    \n",
    "    sigma = 0.25\n",
    "    \n",
    "    for i in range(0, MAX_ITERATIONS):\n",
    "        d1 = (np.log(S / K) + (r + 0.5 * sigma ** 2) * T) / (sigma * np.sqrt(T))\n",
    "        d2 = (np.log(S / K) + (r - 0.5 * sigma ** 2) * T) / (sigma * np.sqrt(T))\n",
    "        price = S * si.norm.cdf(d1, 0.0, 1.0) - K * np.exp(-r * T) * si.norm.cdf(d2, 0.0, 1.0)\n",
    "        vega = S * np.sqrt(T) * si.norm.pdf(d1, 0.0, 1.0)\n",
    "\n",
    "        diff = C - price\n",
    "\n",
    "        if (abs(diff) < tolerance):\n",
    "            return sigma\n",
    "        else: \n",
    "            sigma = sigma + diff/vega\n",
    "        \n",
    "        # print(i,sigma,diff)\n",
    "        \n",
    "    return sigma"
   ]
  },
  {
   "cell_type": "code",
   "execution_count": 7,
   "id": "7095a18e",
   "metadata": {},
   "outputs": [
    {
     "data": {
      "text/html": [
       "<div>\n",
       "<style scoped>\n",
       "    .dataframe tbody tr th:only-of-type {\n",
       "        vertical-align: middle;\n",
       "    }\n",
       "\n",
       "    .dataframe tbody tr th {\n",
       "        vertical-align: top;\n",
       "    }\n",
       "\n",
       "    .dataframe thead th {\n",
       "        text-align: right;\n",
       "    }\n",
       "</style>\n",
       "<table border=\"1\" class=\"dataframe\">\n",
       "  <thead>\n",
       "    <tr style=\"text-align: right;\">\n",
       "      <th></th>\n",
       "      <th>contractSymbol</th>\n",
       "      <th>lastTradeDate</th>\n",
       "      <th>strike</th>\n",
       "      <th>lastPrice</th>\n",
       "      <th>bid</th>\n",
       "      <th>ask</th>\n",
       "      <th>change</th>\n",
       "      <th>percentChange</th>\n",
       "      <th>volume</th>\n",
       "      <th>openInterest</th>\n",
       "      <th>impliedVolatility</th>\n",
       "      <th>inTheMoney</th>\n",
       "      <th>contractSize</th>\n",
       "      <th>currency</th>\n",
       "    </tr>\n",
       "  </thead>\n",
       "  <tbody>\n",
       "    <tr>\n",
       "      <th>0</th>\n",
       "      <td>TSLA220121C00001000</td>\n",
       "      <td>2022-01-07 15:15:43</td>\n",
       "      <td>1.0</td>\n",
       "      <td>1051.45</td>\n",
       "      <td>1077.95</td>\n",
       "      <td>1092.35</td>\n",
       "      <td>0.000000</td>\n",
       "      <td>0.00000</td>\n",
       "      <td>1.0</td>\n",
       "      <td>107</td>\n",
       "      <td>0.000000</td>\n",
       "      <td>True</td>\n",
       "      <td>REGULAR</td>\n",
       "      <td>USD</td>\n",
       "    </tr>\n",
       "    <tr>\n",
       "      <th>1</th>\n",
       "      <td>TSLA220121C00002000</td>\n",
       "      <td>2022-01-07 15:42:09</td>\n",
       "      <td>2.0</td>\n",
       "      <td>1036.60</td>\n",
       "      <td>1074.85</td>\n",
       "      <td>1091.25</td>\n",
       "      <td>0.000000</td>\n",
       "      <td>0.00000</td>\n",
       "      <td>1.0</td>\n",
       "      <td>2</td>\n",
       "      <td>0.000000</td>\n",
       "      <td>True</td>\n",
       "      <td>REGULAR</td>\n",
       "      <td>USD</td>\n",
       "    </tr>\n",
       "    <tr>\n",
       "      <th>2</th>\n",
       "      <td>TSLA220121C00003000</td>\n",
       "      <td>2022-01-06 15:11:35</td>\n",
       "      <td>3.0</td>\n",
       "      <td>1018.85</td>\n",
       "      <td>1074.85</td>\n",
       "      <td>1086.35</td>\n",
       "      <td>0.000000</td>\n",
       "      <td>0.00000</td>\n",
       "      <td>3.0</td>\n",
       "      <td>8</td>\n",
       "      <td>19.515629</td>\n",
       "      <td>True</td>\n",
       "      <td>REGULAR</td>\n",
       "      <td>USD</td>\n",
       "    </tr>\n",
       "    <tr>\n",
       "      <th>3</th>\n",
       "      <td>TSLA220121C00004000</td>\n",
       "      <td>2022-01-06 15:41:21</td>\n",
       "      <td>4.0</td>\n",
       "      <td>1046.95</td>\n",
       "      <td>1073.85</td>\n",
       "      <td>1085.60</td>\n",
       "      <td>0.000000</td>\n",
       "      <td>0.00000</td>\n",
       "      <td>5.0</td>\n",
       "      <td>6</td>\n",
       "      <td>18.804692</td>\n",
       "      <td>True</td>\n",
       "      <td>REGULAR</td>\n",
       "      <td>USD</td>\n",
       "    </tr>\n",
       "    <tr>\n",
       "      <th>4</th>\n",
       "      <td>TSLA220121C00005000</td>\n",
       "      <td>2022-01-11 20:23:16</td>\n",
       "      <td>5.0</td>\n",
       "      <td>1052.30</td>\n",
       "      <td>1073.45</td>\n",
       "      <td>1088.45</td>\n",
       "      <td>0.000000</td>\n",
       "      <td>0.00000</td>\n",
       "      <td>34.0</td>\n",
       "      <td>617</td>\n",
       "      <td>0.000000</td>\n",
       "      <td>True</td>\n",
       "      <td>REGULAR</td>\n",
       "      <td>USD</td>\n",
       "    </tr>\n",
       "    <tr>\n",
       "      <th>...</th>\n",
       "      <td>...</td>\n",
       "      <td>...</td>\n",
       "      <td>...</td>\n",
       "      <td>...</td>\n",
       "      <td>...</td>\n",
       "      <td>...</td>\n",
       "      <td>...</td>\n",
       "      <td>...</td>\n",
       "      <td>...</td>\n",
       "      <td>...</td>\n",
       "      <td>...</td>\n",
       "      <td>...</td>\n",
       "      <td>...</td>\n",
       "      <td>...</td>\n",
       "    </tr>\n",
       "    <tr>\n",
       "      <th>519</th>\n",
       "      <td>TSLA220121C03700000</td>\n",
       "      <td>2020-08-26 17:26:15</td>\n",
       "      <td>3700.0</td>\n",
       "      <td>352.70</td>\n",
       "      <td>398.00</td>\n",
       "      <td>417.50</td>\n",
       "      <td>0.000000</td>\n",
       "      <td>0.00000</td>\n",
       "      <td>NaN</td>\n",
       "      <td>1</td>\n",
       "      <td>10.589115</td>\n",
       "      <td>False</td>\n",
       "      <td>REGULAR</td>\n",
       "      <td>USD</td>\n",
       "    </tr>\n",
       "    <tr>\n",
       "      <th>520</th>\n",
       "      <td>TSLA220121C03800000</td>\n",
       "      <td>2020-08-27 19:59:56</td>\n",
       "      <td>3800.0</td>\n",
       "      <td>397.00</td>\n",
       "      <td>383.50</td>\n",
       "      <td>403.00</td>\n",
       "      <td>0.000000</td>\n",
       "      <td>0.00000</td>\n",
       "      <td>NaN</td>\n",
       "      <td>17</td>\n",
       "      <td>10.464969</td>\n",
       "      <td>False</td>\n",
       "      <td>REGULAR</td>\n",
       "      <td>USD</td>\n",
       "    </tr>\n",
       "    <tr>\n",
       "      <th>521</th>\n",
       "      <td>TSLA220121C04000000</td>\n",
       "      <td>2020-08-28 17:33:09</td>\n",
       "      <td>4000.0</td>\n",
       "      <td>367.85</td>\n",
       "      <td>357.50</td>\n",
       "      <td>377.00</td>\n",
       "      <td>22.850006</td>\n",
       "      <td>6.62319</td>\n",
       "      <td>2.0</td>\n",
       "      <td>2</td>\n",
       "      <td>10.253818</td>\n",
       "      <td>False</td>\n",
       "      <td>REGULAR</td>\n",
       "      <td>USD</td>\n",
       "    </tr>\n",
       "    <tr>\n",
       "      <th>522</th>\n",
       "      <td>TSLA220121C04100000</td>\n",
       "      <td>2020-08-27 14:09:15</td>\n",
       "      <td>4100.0</td>\n",
       "      <td>323.85</td>\n",
       "      <td>345.50</td>\n",
       "      <td>365.00</td>\n",
       "      <td>0.000000</td>\n",
       "      <td>0.00000</td>\n",
       "      <td>NaN</td>\n",
       "      <td>6</td>\n",
       "      <td>10.159489</td>\n",
       "      <td>False</td>\n",
       "      <td>REGULAR</td>\n",
       "      <td>USD</td>\n",
       "    </tr>\n",
       "    <tr>\n",
       "      <th>523</th>\n",
       "      <td>TSLA220121C04200000</td>\n",
       "      <td>2020-08-28 19:49:31</td>\n",
       "      <td>4200.0</td>\n",
       "      <td>343.00</td>\n",
       "      <td>332.00</td>\n",
       "      <td>350.00</td>\n",
       "      <td>-2.000000</td>\n",
       "      <td>-0.57971</td>\n",
       "      <td>45.0</td>\n",
       "      <td>22</td>\n",
       "      <td>10.031925</td>\n",
       "      <td>False</td>\n",
       "      <td>REGULAR</td>\n",
       "      <td>USD</td>\n",
       "    </tr>\n",
       "  </tbody>\n",
       "</table>\n",
       "<p>524 rows × 14 columns</p>\n",
       "</div>"
      ],
      "text/plain": [
       "          contractSymbol       lastTradeDate  strike  lastPrice      bid  \\\n",
       "0    TSLA220121C00001000 2022-01-07 15:15:43     1.0    1051.45  1077.95   \n",
       "1    TSLA220121C00002000 2022-01-07 15:42:09     2.0    1036.60  1074.85   \n",
       "2    TSLA220121C00003000 2022-01-06 15:11:35     3.0    1018.85  1074.85   \n",
       "3    TSLA220121C00004000 2022-01-06 15:41:21     4.0    1046.95  1073.85   \n",
       "4    TSLA220121C00005000 2022-01-11 20:23:16     5.0    1052.30  1073.45   \n",
       "..                   ...                 ...     ...        ...      ...   \n",
       "519  TSLA220121C03700000 2020-08-26 17:26:15  3700.0     352.70   398.00   \n",
       "520  TSLA220121C03800000 2020-08-27 19:59:56  3800.0     397.00   383.50   \n",
       "521  TSLA220121C04000000 2020-08-28 17:33:09  4000.0     367.85   357.50   \n",
       "522  TSLA220121C04100000 2020-08-27 14:09:15  4100.0     323.85   345.50   \n",
       "523  TSLA220121C04200000 2020-08-28 19:49:31  4200.0     343.00   332.00   \n",
       "\n",
       "         ask     change  percentChange  volume  openInterest  \\\n",
       "0    1092.35   0.000000        0.00000     1.0           107   \n",
       "1    1091.25   0.000000        0.00000     1.0             2   \n",
       "2    1086.35   0.000000        0.00000     3.0             8   \n",
       "3    1085.60   0.000000        0.00000     5.0             6   \n",
       "4    1088.45   0.000000        0.00000    34.0           617   \n",
       "..       ...        ...            ...     ...           ...   \n",
       "519   417.50   0.000000        0.00000     NaN             1   \n",
       "520   403.00   0.000000        0.00000     NaN            17   \n",
       "521   377.00  22.850006        6.62319     2.0             2   \n",
       "522   365.00   0.000000        0.00000     NaN             6   \n",
       "523   350.00  -2.000000       -0.57971    45.0            22   \n",
       "\n",
       "     impliedVolatility  inTheMoney contractSize currency  \n",
       "0             0.000000        True      REGULAR      USD  \n",
       "1             0.000000        True      REGULAR      USD  \n",
       "2            19.515629        True      REGULAR      USD  \n",
       "3            18.804692        True      REGULAR      USD  \n",
       "4             0.000000        True      REGULAR      USD  \n",
       "..                 ...         ...          ...      ...  \n",
       "519          10.589115       False      REGULAR      USD  \n",
       "520          10.464969       False      REGULAR      USD  \n",
       "521          10.253818       False      REGULAR      USD  \n",
       "522          10.159489       False      REGULAR      USD  \n",
       "523          10.031925       False      REGULAR      USD  \n",
       "\n",
       "[524 rows x 14 columns]"
      ]
     },
     "execution_count": 7,
     "metadata": {},
     "output_type": "execute_result"
    }
   ],
   "source": [
    "TESLA = yf.Ticker(\"TSLA\")\n",
    "opt = TESLA.option_chain('2022-01-21')\n",
    "opt.calls\n"
   ]
  },
  {
   "cell_type": "code",
   "execution_count": 17,
   "id": "f6b731db",
   "metadata": {},
   "outputs": [
    {
     "name": "stdout",
     "output_type": "stream",
     "text": [
      "The call price is 294.69\n"
     ]
    }
   ],
   "source": [
    "callPrice = float(opt.calls.lastPrice[opt.calls.strike == 800.00])\n",
    "print ('The call price is', callPrice)"
   ]
  },
  {
   "cell_type": "code",
   "execution_count": 45,
   "id": "e4c5c55b",
   "metadata": {},
   "outputs": [
    {
     "ename": "SyntaxError",
     "evalue": "invalid syntax (<ipython-input-45-eef01abdf65c>, line 24)",
     "output_type": "error",
     "traceback": [
      "\u001b[1;36m  File \u001b[1;32m\"<ipython-input-45-eef01abdf65c>\"\u001b[1;36m, line \u001b[1;32m24\u001b[0m\n\u001b[1;33m    vega= S* np .sqrt(T)* si .norm (.pdf (-d1), 0.0, 1.0)\u001b[0m\n\u001b[1;37m                                    ^\u001b[0m\n\u001b[1;31mSyntaxError\u001b[0m\u001b[1;31m:\u001b[0m invalid syntax\n"
     ]
    }
   ],
   "source": [
    "def newton_vol_call(S, K, T, C, r):\n",
    "   \n",
    "    #S: spot price\n",
    "    #K: strike price\n",
    "    #T: time to maturity\n",
    "    #C: Call value\n",
    "    #r: risk free rate\n",
    "    #sigma: volatility of underlying asset\n",
    "\n",
    "     MAX_ITERATIONS = 1000\n",
    "\n",
    "     tolerance = 0.000001\n",
    "\n",
    "     sigma = 0.25\n",
    "\n",
    "     for i in range(0, MAX_ITERATIONS):\n",
    "\n",
    "         d1 = (np.log(S / K) + (r + 0.5 * sigma ** 2) * T) / (sigma * np.sqrt(T))\n",
    "\n",
    "         d2 = (np.log(S / K) + (r - 0.5 * sigma ** 2) * T) / (sigma * np.sqrt(T))  \n",
    "\n",
    "         price = S* si .norm .cdf(-d1,0.0,1.0 )-K* np .exp (-r* T)* si .norm .cdf(-d2,0.0,1.0)  \n",
    "\n",
    "         vega= S* np .sqrt(T)* si .norm (.pdf (-d1), 0.0, 1.0)  \n",
    "\n",
    "         diff= C-price;   if abs ((diff ))<tolerance : return sigma else :sigam= sigam+ diff/vega print(\"Iteration\",i,\" \",\" Sigma \",round((sigam ),4),\"Difference\",abs ((diff )))return round((sigam ),3);\n"
   ]
  },
  {
   "cell_type": "code",
   "execution_count": null,
   "id": "7835775d",
   "metadata": {},
   "outputs": [],
   "source": [
    "def newton_vol_call(S, K, T, C, r):\n",
    "   \n",
    "    #S: spot price\n",
    "    #K: strike price\n",
    "    #T: time to maturity\n",
    "    #C: Call value\n",
    "    #r: risk free rate\n",
    "    #sigma: volatility of underlying asset\n",
    "\n",
    "     MAX_ITERATIONS = 1000\n",
    "\n",
    "     tolerance = 0.000001\n",
    "\n",
    "     sigma = 0.25\n",
    "\n",
    "     for i in range(0, MAX_ITERATIONS):\n",
    "\n",
    "         d1 = (np.log(S / K) + (r + 0.5 * sigma ** 2) * T) / (sigma * np.sqrt(T))\n",
    "\n",
    "         d2 = (np.log(S / K) + (r - 0.5 * sigma ** 2) * T) / (sigma * np.sqrt(T))  \n",
    "\n",
    "         price = S* si .norm .cdf(-d1,0.0,1.0)-K* np .exp (-r* T)* si .norm .cdf(-d2,0.0,1.)  \n",
    "\n",
    "         vega= S* np .sqrt(T)* si .norm (.pdf (-d1),0.0,1.0)  \n",
    "\n",
    "         diff= C-price;   if abs ((diff ))<tolerance : return sigma else :sigam= sigam+ diff/vega print(\"Iteration\",i,\" \",\" Sigma \",round((sigam ),4),\"Difference\",abs ((diff )))return round((sigam ),3);"
   ]
  },
  {
   "cell_type": "code",
   "execution_count": 39,
   "id": "372a9069",
   "metadata": {},
   "outputs": [
    {
     "name": "stderr",
     "output_type": "stream",
     "text": [
      "<ipython-input-5-c5fcb417c835>:16: RuntimeWarning: divide by zero encountered in log\n",
      "  d1 = (np.log(S / K) + (r + 0.5 * sigma ** 2) * T) / (sigma * np.sqrt(T))\n",
      "<ipython-input-5-c5fcb417c835>:17: RuntimeWarning: divide by zero encountered in log\n",
      "  d2 = (np.log(S / K) + (r - 0.5 * sigma ** 2) * T) / (sigma * np.sqrt(T))\n"
     ]
    },
    {
     "ename": "ValueError",
     "evalue": "The truth value of an array with more than one element is ambiguous. Use a.any() or a.all()",
     "output_type": "error",
     "traceback": [
      "\u001b[1;31m---------------------------------------------------------------------------\u001b[0m",
      "\u001b[1;31mValueError\u001b[0m                                Traceback (most recent call last)",
      "\u001b[1;32m<ipython-input-39-9aa7f7ee0d91>\u001b[0m in \u001b[0;36m<module>\u001b[1;34m\u001b[0m\n\u001b[1;32m----> 1\u001b[1;33m \u001b[0mimpvol\u001b[0m \u001b[1;33m=\u001b[0m \u001b[0mnewton_vol_call\u001b[0m\u001b[1;33m(\u001b[0m\u001b[0mS\u001b[0m\u001b[1;33m,\u001b[0m \u001b[1;36m1010.00\u001b[0m\u001b[1;33m,\u001b[0m \u001b[1;36m4\u001b[0m\u001b[1;33m/\u001b[0m\u001b[1;36m52\u001b[0m\u001b[1;33m,\u001b[0m \u001b[0mfloat\u001b[0m\u001b[1;33m(\u001b[0m\u001b[0mopt\u001b[0m\u001b[1;33m.\u001b[0m\u001b[0mcalls\u001b[0m\u001b[1;33m.\u001b[0m\u001b[0mlastPrice\u001b[0m\u001b[1;33m[\u001b[0m\u001b[0mopt\u001b[0m\u001b[1;33m.\u001b[0m\u001b[0mcalls\u001b[0m\u001b[1;33m.\u001b[0m\u001b[0mstrike\u001b[0m \u001b[1;33m==\u001b[0m \u001b[1;36m1010.00\u001b[0m\u001b[1;33m]\u001b[0m\u001b[1;33m)\u001b[0m\u001b[1;33m,\u001b[0m \u001b[1;36m0.0158\u001b[0m\u001b[1;33m)\u001b[0m\u001b[1;33m\u001b[0m\u001b[1;33m\u001b[0m\u001b[0m\n\u001b[0m\u001b[0;32m      2\u001b[0m \u001b[0mprint\u001b[0m\u001b[1;33m(\u001b[0m\u001b[1;34m'The implied volatility is'\u001b[0m\u001b[1;33m,\u001b[0m \u001b[0mround\u001b[0m\u001b[1;33m(\u001b[0m\u001b[0mimpvol\u001b[0m\u001b[1;33m*\u001b[0m\u001b[1;36m100\u001b[0m\u001b[1;33m,\u001b[0m\u001b[1;36m2\u001b[0m\u001b[1;33m)\u001b[0m \u001b[1;33m,\u001b[0m \u001b[1;34m'% for the one-month call with strike $ 1010.00'\u001b[0m\u001b[1;33m)\u001b[0m\u001b[1;33m\u001b[0m\u001b[1;33m\u001b[0m\u001b[0m\n",
      "\u001b[1;32m<ipython-input-5-c5fcb417c835>\u001b[0m in \u001b[0;36mnewton_vol_call\u001b[1;34m(S, K, T, C, r)\u001b[0m\n\u001b[0;32m     21\u001b[0m         \u001b[0mdiff\u001b[0m \u001b[1;33m=\u001b[0m \u001b[0mC\u001b[0m \u001b[1;33m-\u001b[0m \u001b[0mprice\u001b[0m\u001b[1;33m\u001b[0m\u001b[1;33m\u001b[0m\u001b[0m\n\u001b[0;32m     22\u001b[0m \u001b[1;33m\u001b[0m\u001b[0m\n\u001b[1;32m---> 23\u001b[1;33m         \u001b[1;32mif\u001b[0m \u001b[1;33m(\u001b[0m\u001b[0mabs\u001b[0m\u001b[1;33m(\u001b[0m\u001b[0mdiff\u001b[0m\u001b[1;33m)\u001b[0m \u001b[1;33m<\u001b[0m \u001b[0mtolerance\u001b[0m\u001b[1;33m)\u001b[0m\u001b[1;33m:\u001b[0m\u001b[1;33m\u001b[0m\u001b[1;33m\u001b[0m\u001b[0m\n\u001b[0m\u001b[0;32m     24\u001b[0m             \u001b[1;32mreturn\u001b[0m \u001b[0msigma\u001b[0m\u001b[1;33m\u001b[0m\u001b[1;33m\u001b[0m\u001b[0m\n\u001b[0;32m     25\u001b[0m         \u001b[1;32melse\u001b[0m\u001b[1;33m:\u001b[0m\u001b[1;33m\u001b[0m\u001b[1;33m\u001b[0m\u001b[0m\n",
      "\u001b[1;31mValueError\u001b[0m: The truth value of an array with more than one element is ambiguous. Use a.any() or a.all()"
     ]
    }
   ],
   "source": [
    "impvol = newton_vol_call(S, 1010.00, 4/52, float(opt.calls.lastPrice[opt.calls.strike == 1010.00]), 0.0158)\n",
    "print('The implied volatility is', round(impvol*100,2) , '% for the one-month call with strike $ 1010.00')"
   ]
  },
  {
   "cell_type": "code",
   "execution_count": 25,
   "id": "cca7f133",
   "metadata": {},
   "outputs": [
    {
     "ename": "ModuleNotFoundError",
     "evalue": "No module named 'mibian'",
     "output_type": "error",
     "traceback": [
      "\u001b[1;31m---------------------------------------------------------------------------\u001b[0m",
      "\u001b[1;31mModuleNotFoundError\u001b[0m                       Traceback (most recent call last)",
      "\u001b[1;32m<ipython-input-25-5813f20d2767>\u001b[0m in \u001b[0;36m<module>\u001b[1;34m\u001b[0m\n\u001b[1;32m----> 1\u001b[1;33m \u001b[1;32mimport\u001b[0m \u001b[0mmibian\u001b[0m\u001b[1;33m\u001b[0m\u001b[1;33m\u001b[0m\u001b[0m\n\u001b[0m",
      "\u001b[1;31mModuleNotFoundError\u001b[0m: No module named 'mibian'"
     ]
    }
   ],
   "source": [
    "import mibian"
   ]
  },
  {
   "cell_type": "markdown",
   "id": "a058b4dc",
   "metadata": {},
   "source": [
    "# Binomial Tree"
   ]
  },
  {
   "cell_type": "code",
   "execution_count": 26,
   "id": "4f086424",
   "metadata": {},
   "outputs": [],
   "source": [
    "S0 = 40.0              # spot stock price\n",
    "K = 40.0               # strike\n",
    "T = 0.5                 # maturity \n",
    "r = 0.1                 # risk free rate \n",
    "sig = 0.1               # diffusion coefficient or volatility\n",
    "N = 2                   # number of periods or number of time steps  \n",
    "payoff = \"call\"          # payoff "
   ]
  },
  {
   "cell_type": "code",
   "execution_count": 27,
   "id": "e1b46795",
   "metadata": {},
   "outputs": [],
   "source": [
    "dT = float(T) / N                             # Delta t\n",
    "u = np.exp(sig * np.sqrt(dT))                 # up factor\n",
    "d = 1.0 / u                                   # down factor "
   ]
  },
  {
   "cell_type": "code",
   "execution_count": 28,
   "id": "1e857b95",
   "metadata": {},
   "outputs": [],
   "source": [
    "S = np.zeros((N + 1, N + 1))\n",
    "S[0, 0] = S0\n",
    "z = 1\n",
    "for t in range(1, N + 1):\n",
    "    for i in range(z):\n",
    "        S[i, t] = S[i, t-1] * u\n",
    "        S[i+1, t] = S[i, t-1] * d\n",
    "    z += 1"
   ]
  },
  {
   "cell_type": "code",
   "execution_count": 29,
   "id": "0cd16a57",
   "metadata": {},
   "outputs": [
    {
     "data": {
      "text/plain": [
       "array([[40.        , 42.05084386, 44.20683672],\n",
       "       [ 0.        , 38.04917698, 40.        ],\n",
       "       [ 0.        ,  0.        , 36.19349672]])"
      ]
     },
     "execution_count": 29,
     "metadata": {},
     "output_type": "execute_result"
    }
   ],
   "source": [
    "S"
   ]
  },
  {
   "cell_type": "code",
   "execution_count": 30,
   "id": "6109489b",
   "metadata": {},
   "outputs": [
    {
     "data": {
      "text/plain": [
       "0.7405483598480218"
      ]
     },
     "execution_count": 30,
     "metadata": {},
     "output_type": "execute_result"
    }
   ],
   "source": [
    "a = np.exp(r * dT)    # risk free compound return\n",
    "p = (a - d)/ (u - d)  # risk neutral up probability\n",
    "q = 1.0 - p           # risk neutral down probability\n",
    "p"
   ]
  },
  {
   "cell_type": "code",
   "execution_count": 31,
   "id": "33553264",
   "metadata": {},
   "outputs": [
    {
     "data": {
      "text/plain": [
       "0.2594516401519782"
      ]
     },
     "execution_count": 31,
     "metadata": {},
     "output_type": "execute_result"
    }
   ],
   "source": [
    "q"
   ]
  },
  {
   "cell_type": "code",
   "execution_count": 32,
   "id": "20903614",
   "metadata": {},
   "outputs": [
    {
     "data": {
      "text/plain": [
       "1.0512710963760241"
      ]
     },
     "execution_count": 32,
     "metadata": {},
     "output_type": "execute_result"
    }
   ],
   "source": [
    "u"
   ]
  },
  {
   "cell_type": "code",
   "execution_count": 33,
   "id": "7cc24bde",
   "metadata": {},
   "outputs": [
    {
     "data": {
      "text/plain": [
       "0.9512294245007139"
      ]
     },
     "execution_count": 33,
     "metadata": {},
     "output_type": "execute_result"
    }
   ],
   "source": [
    "d"
   ]
  },
  {
   "cell_type": "code",
   "execution_count": 34,
   "id": "c2ee1b29",
   "metadata": {},
   "outputs": [
    {
     "data": {
      "text/plain": [
       "array([[0.        , 0.        , 4.20683672],\n",
       "       [0.        , 0.        , 0.        ],\n",
       "       [0.        , 0.        , 0.        ]])"
      ]
     },
     "execution_count": 34,
     "metadata": {},
     "output_type": "execute_result"
    }
   ],
   "source": [
    "S_T = S[:,-1]\n",
    "V = np.zeros((N + 1, N + 1))\n",
    "if payoff ==\"call\":\n",
    "    V[:,-1] = np.maximum(S_T-K, 0.0)\n",
    "elif payoff ==\"put\":\n",
    "    V[:,-1] = np.maximum(K-S_T, 0.0)\n",
    "V"
   ]
  },
  {
   "cell_type": "code",
   "execution_count": 35,
   "id": "cc5e27da",
   "metadata": {},
   "outputs": [
    {
     "data": {
      "text/plain": [
       "array([[2.19456163, 3.03844737, 4.20683672],\n",
       "       [0.        , 0.        , 0.        ],\n",
       "       [0.        , 0.        , 0.        ]])"
      ]
     },
     "execution_count": 35,
     "metadata": {},
     "output_type": "execute_result"
    }
   ],
   "source": [
    "# for European Option\n",
    "for j in range(N-1, -1, -1):\n",
    "    for i in range(j+1):\n",
    "        V[i,j] = np.exp(-r*dT) * (p * V[i,j + 1] + q * V[i + 1,j + 1])\n",
    "V"
   ]
  },
  {
   "cell_type": "code",
   "execution_count": 36,
   "id": "7366384e",
   "metadata": {},
   "outputs": [
    {
     "name": "stdout",
     "output_type": "stream",
     "text": [
      "European call 2.19456162714245\n"
     ]
    }
   ],
   "source": [
    "print('European ' + payoff, str( V[0,0]))"
   ]
  },
  {
   "cell_type": "code",
   "execution_count": null,
   "id": "f8f574e9",
   "metadata": {},
   "outputs": [],
   "source": []
  }
 ],
 "metadata": {
  "kernelspec": {
   "display_name": "Python 3",
   "language": "python",
   "name": "python3"
  },
  "language_info": {
   "codemirror_mode": {
    "name": "ipython",
    "version": 3
   },
   "file_extension": ".py",
   "mimetype": "text/x-python",
   "name": "python",
   "nbconvert_exporter": "python",
   "pygments_lexer": "ipython3",
   "version": "3.8.8"
  }
 },
 "nbformat": 4,
 "nbformat_minor": 5
}
